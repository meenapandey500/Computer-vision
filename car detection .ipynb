{
 "cells": [
  {
   "cell_type": "code",
   "execution_count": 2,
   "id": "compact-claim",
   "metadata": {},
   "outputs": [],
   "source": [
    "#Car Detection System : use inbuilt pre-trained model cars.xml\n",
    "import cv2"
   ]
  },
  {
   "cell_type": "code",
   "execution_count": 3,
   "id": "inclusive-scheme",
   "metadata": {},
   "outputs": [],
   "source": [
    "cap = cv2.VideoCapture('images\\dataset_video1.avi')\n",
    "car_cascade = cv2.CascadeClassifier('images\\cars.xml')\n",
    "\n",
    "#positive folder (to hold various type of car) and negative folder(to hold other images excluding\n",
    "#car's image)\n",
    "while True:\n",
    "    ret, frames = cap.read()\n",
    "    #convert original images to gray scale image \n",
    "    #gray = cv2.cvtColor(frames, cv2.COLOR_BGR2GRAY)\n",
    "    cars = car_cascade.detectMultiScale(frames, 1.1, 9)\n",
    "    for (x,y,w,h) in cars:\n",
    "        plate = frames[y:y + h, x:x + w]\n",
    "        cv2.rectangle(frames,(x,y),(x +w, y +h) ,(51 ,51,255),2)\n",
    "        cv2.rectangle(frames, (x, y - 40), (x + w, y), (51,51,255), -2)\n",
    "        cv2.putText(frames, 'Car', (x, y - 10), cv2.FONT_HERSHEY_SIMPLEX, 0.7, (255, 255, 255), 2)\n",
    "        #cv2.imshow('car',plate)\n",
    "   \n",
    "    frames = cv2.resize(frames,(600,400))\n",
    "    cv2.imshow('Car Detection System', frames)\n",
    "    # cv2.resizeWindow('Car Detection System', 600, 600)\n",
    "    k = cv2.waitKey(30) & 0xff\n",
    "    if k == 27:\n",
    "        break\n",
    "\n",
    "cap.release()\n",
    "\n",
    "cv2.destroyAllWindows()"
   ]
  },
  {
   "cell_type": "code",
   "execution_count": null,
   "id": "detailed-apartment",
   "metadata": {},
   "outputs": [],
   "source": []
  }
 ],
 "metadata": {
  "kernelspec": {
   "display_name": "Python 3",
   "language": "python",
   "name": "python3"
  },
  "language_info": {
   "codemirror_mode": {
    "name": "ipython",
    "version": 3
   },
   "file_extension": ".py",
   "mimetype": "text/x-python",
   "name": "python",
   "nbconvert_exporter": "python",
   "pygments_lexer": "ipython3",
   "version": "3.8.10"
  }
 },
 "nbformat": 4,
 "nbformat_minor": 5
}
